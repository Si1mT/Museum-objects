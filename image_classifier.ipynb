{
  "nbformat": 4,
  "nbformat_minor": 0,
  "metadata": {
    "colab": {
      "provenance": []
    },
    "kernelspec": {
      "name": "python3",
      "display_name": "Python 3"
    },
    "language_info": {
      "name": "python"
    },
    "accelerator": "GPU",
    "gpuClass": "standard",
    "widgets": {
      "application/vnd.jupyter.widget-state+json": {
        "ad1695e2e01842b1b63b51ca6d2955ce": {
          "model_module": "@jupyter-widgets/controls",
          "model_name": "HBoxModel",
          "model_module_version": "1.5.0",
          "state": {
            "_dom_classes": [],
            "_model_module": "@jupyter-widgets/controls",
            "_model_module_version": "1.5.0",
            "_model_name": "HBoxModel",
            "_view_count": null,
            "_view_module": "@jupyter-widgets/controls",
            "_view_module_version": "1.5.0",
            "_view_name": "HBoxView",
            "box_style": "",
            "children": [
              "IPY_MODEL_8f2ef98f6bd7440da06174de123bd62a",
              "IPY_MODEL_4942da0f0bce4db3abb39c42f14782e8",
              "IPY_MODEL_ab99b54837204fb9b9684bde03b42005"
            ],
            "layout": "IPY_MODEL_902aae4fd6674df1aa8c54017c75be6f"
          }
        },
        "8f2ef98f6bd7440da06174de123bd62a": {
          "model_module": "@jupyter-widgets/controls",
          "model_name": "HTMLModel",
          "model_module_version": "1.5.0",
          "state": {
            "_dom_classes": [],
            "_model_module": "@jupyter-widgets/controls",
            "_model_module_version": "1.5.0",
            "_model_name": "HTMLModel",
            "_view_count": null,
            "_view_module": "@jupyter-widgets/controls",
            "_view_module_version": "1.5.0",
            "_view_name": "HTMLView",
            "description": "",
            "description_tooltip": null,
            "layout": "IPY_MODEL_2839d2c7c74f4cb3874cce242c7247c0",
            "placeholder": "​",
            "style": "IPY_MODEL_cc388b84fb414b5fa810a292ce98ad28",
            "value": "100%"
          }
        },
        "4942da0f0bce4db3abb39c42f14782e8": {
          "model_module": "@jupyter-widgets/controls",
          "model_name": "FloatProgressModel",
          "model_module_version": "1.5.0",
          "state": {
            "_dom_classes": [],
            "_model_module": "@jupyter-widgets/controls",
            "_model_module_version": "1.5.0",
            "_model_name": "FloatProgressModel",
            "_view_count": null,
            "_view_module": "@jupyter-widgets/controls",
            "_view_module_version": "1.5.0",
            "_view_name": "ProgressView",
            "bar_style": "success",
            "description": "",
            "description_tooltip": null,
            "layout": "IPY_MODEL_34eefd0b85d444ca918392a32fa53bba",
            "max": 170498071,
            "min": 0,
            "orientation": "horizontal",
            "style": "IPY_MODEL_8d0ea5510f08444982926cc0cd820c84",
            "value": 170498071
          }
        },
        "ab99b54837204fb9b9684bde03b42005": {
          "model_module": "@jupyter-widgets/controls",
          "model_name": "HTMLModel",
          "model_module_version": "1.5.0",
          "state": {
            "_dom_classes": [],
            "_model_module": "@jupyter-widgets/controls",
            "_model_module_version": "1.5.0",
            "_model_name": "HTMLModel",
            "_view_count": null,
            "_view_module": "@jupyter-widgets/controls",
            "_view_module_version": "1.5.0",
            "_view_name": "HTMLView",
            "description": "",
            "description_tooltip": null,
            "layout": "IPY_MODEL_df668dfa5faf43caa50faacc993b524c",
            "placeholder": "​",
            "style": "IPY_MODEL_a7b89a5b9da44b1ca21c55019b88138d",
            "value": " 170498071/170498071 [00:13&lt;00:00, 12829556.48it/s]"
          }
        },
        "902aae4fd6674df1aa8c54017c75be6f": {
          "model_module": "@jupyter-widgets/base",
          "model_name": "LayoutModel",
          "model_module_version": "1.2.0",
          "state": {
            "_model_module": "@jupyter-widgets/base",
            "_model_module_version": "1.2.0",
            "_model_name": "LayoutModel",
            "_view_count": null,
            "_view_module": "@jupyter-widgets/base",
            "_view_module_version": "1.2.0",
            "_view_name": "LayoutView",
            "align_content": null,
            "align_items": null,
            "align_self": null,
            "border": null,
            "bottom": null,
            "display": null,
            "flex": null,
            "flex_flow": null,
            "grid_area": null,
            "grid_auto_columns": null,
            "grid_auto_flow": null,
            "grid_auto_rows": null,
            "grid_column": null,
            "grid_gap": null,
            "grid_row": null,
            "grid_template_areas": null,
            "grid_template_columns": null,
            "grid_template_rows": null,
            "height": null,
            "justify_content": null,
            "justify_items": null,
            "left": null,
            "margin": null,
            "max_height": null,
            "max_width": null,
            "min_height": null,
            "min_width": null,
            "object_fit": null,
            "object_position": null,
            "order": null,
            "overflow": null,
            "overflow_x": null,
            "overflow_y": null,
            "padding": null,
            "right": null,
            "top": null,
            "visibility": null,
            "width": null
          }
        },
        "2839d2c7c74f4cb3874cce242c7247c0": {
          "model_module": "@jupyter-widgets/base",
          "model_name": "LayoutModel",
          "model_module_version": "1.2.0",
          "state": {
            "_model_module": "@jupyter-widgets/base",
            "_model_module_version": "1.2.0",
            "_model_name": "LayoutModel",
            "_view_count": null,
            "_view_module": "@jupyter-widgets/base",
            "_view_module_version": "1.2.0",
            "_view_name": "LayoutView",
            "align_content": null,
            "align_items": null,
            "align_self": null,
            "border": null,
            "bottom": null,
            "display": null,
            "flex": null,
            "flex_flow": null,
            "grid_area": null,
            "grid_auto_columns": null,
            "grid_auto_flow": null,
            "grid_auto_rows": null,
            "grid_column": null,
            "grid_gap": null,
            "grid_row": null,
            "grid_template_areas": null,
            "grid_template_columns": null,
            "grid_template_rows": null,
            "height": null,
            "justify_content": null,
            "justify_items": null,
            "left": null,
            "margin": null,
            "max_height": null,
            "max_width": null,
            "min_height": null,
            "min_width": null,
            "object_fit": null,
            "object_position": null,
            "order": null,
            "overflow": null,
            "overflow_x": null,
            "overflow_y": null,
            "padding": null,
            "right": null,
            "top": null,
            "visibility": null,
            "width": null
          }
        },
        "cc388b84fb414b5fa810a292ce98ad28": {
          "model_module": "@jupyter-widgets/controls",
          "model_name": "DescriptionStyleModel",
          "model_module_version": "1.5.0",
          "state": {
            "_model_module": "@jupyter-widgets/controls",
            "_model_module_version": "1.5.0",
            "_model_name": "DescriptionStyleModel",
            "_view_count": null,
            "_view_module": "@jupyter-widgets/base",
            "_view_module_version": "1.2.0",
            "_view_name": "StyleView",
            "description_width": ""
          }
        },
        "34eefd0b85d444ca918392a32fa53bba": {
          "model_module": "@jupyter-widgets/base",
          "model_name": "LayoutModel",
          "model_module_version": "1.2.0",
          "state": {
            "_model_module": "@jupyter-widgets/base",
            "_model_module_version": "1.2.0",
            "_model_name": "LayoutModel",
            "_view_count": null,
            "_view_module": "@jupyter-widgets/base",
            "_view_module_version": "1.2.0",
            "_view_name": "LayoutView",
            "align_content": null,
            "align_items": null,
            "align_self": null,
            "border": null,
            "bottom": null,
            "display": null,
            "flex": null,
            "flex_flow": null,
            "grid_area": null,
            "grid_auto_columns": null,
            "grid_auto_flow": null,
            "grid_auto_rows": null,
            "grid_column": null,
            "grid_gap": null,
            "grid_row": null,
            "grid_template_areas": null,
            "grid_template_columns": null,
            "grid_template_rows": null,
            "height": null,
            "justify_content": null,
            "justify_items": null,
            "left": null,
            "margin": null,
            "max_height": null,
            "max_width": null,
            "min_height": null,
            "min_width": null,
            "object_fit": null,
            "object_position": null,
            "order": null,
            "overflow": null,
            "overflow_x": null,
            "overflow_y": null,
            "padding": null,
            "right": null,
            "top": null,
            "visibility": null,
            "width": null
          }
        },
        "8d0ea5510f08444982926cc0cd820c84": {
          "model_module": "@jupyter-widgets/controls",
          "model_name": "ProgressStyleModel",
          "model_module_version": "1.5.0",
          "state": {
            "_model_module": "@jupyter-widgets/controls",
            "_model_module_version": "1.5.0",
            "_model_name": "ProgressStyleModel",
            "_view_count": null,
            "_view_module": "@jupyter-widgets/base",
            "_view_module_version": "1.2.0",
            "_view_name": "StyleView",
            "bar_color": null,
            "description_width": ""
          }
        },
        "df668dfa5faf43caa50faacc993b524c": {
          "model_module": "@jupyter-widgets/base",
          "model_name": "LayoutModel",
          "model_module_version": "1.2.0",
          "state": {
            "_model_module": "@jupyter-widgets/base",
            "_model_module_version": "1.2.0",
            "_model_name": "LayoutModel",
            "_view_count": null,
            "_view_module": "@jupyter-widgets/base",
            "_view_module_version": "1.2.0",
            "_view_name": "LayoutView",
            "align_content": null,
            "align_items": null,
            "align_self": null,
            "border": null,
            "bottom": null,
            "display": null,
            "flex": null,
            "flex_flow": null,
            "grid_area": null,
            "grid_auto_columns": null,
            "grid_auto_flow": null,
            "grid_auto_rows": null,
            "grid_column": null,
            "grid_gap": null,
            "grid_row": null,
            "grid_template_areas": null,
            "grid_template_columns": null,
            "grid_template_rows": null,
            "height": null,
            "justify_content": null,
            "justify_items": null,
            "left": null,
            "margin": null,
            "max_height": null,
            "max_width": null,
            "min_height": null,
            "min_width": null,
            "object_fit": null,
            "object_position": null,
            "order": null,
            "overflow": null,
            "overflow_x": null,
            "overflow_y": null,
            "padding": null,
            "right": null,
            "top": null,
            "visibility": null,
            "width": null
          }
        },
        "a7b89a5b9da44b1ca21c55019b88138d": {
          "model_module": "@jupyter-widgets/controls",
          "model_name": "DescriptionStyleModel",
          "model_module_version": "1.5.0",
          "state": {
            "_model_module": "@jupyter-widgets/controls",
            "_model_module_version": "1.5.0",
            "_model_name": "DescriptionStyleModel",
            "_view_count": null,
            "_view_module": "@jupyter-widgets/base",
            "_view_module_version": "1.2.0",
            "_view_name": "StyleView",
            "description_width": ""
          }
        }
      }
    }
  },
  "cells": [
    {
      "cell_type": "code",
      "execution_count": null,
      "metadata": {
        "id": "vg96tNGG3kjR"
      },
      "outputs": [],
      "source": [
        "# majority of code from https://medium.com/bitgrit-data-science-publication/building-an-image-classification-model-with-pytorch-from-scratch-f10452073212\n",
        "\n",
        "import matplotlib.pyplot as plt # for plotting\n",
        "import numpy as np # for transformation\n",
        "\n",
        "import torch # PyTorch package\n",
        "import torchvision # load datasets\n",
        "import torchvision.transforms as transforms # transform data\n",
        "import torch.nn as nn # basic building block for neural neteorks\n",
        "import torch.nn.functional as F # import convolution functions like Relu\n",
        "import torch.optim as optim # optimzer"
      ]
    },
    {
      "cell_type": "code",
      "source": [
        "# load in train and test datasets\n",
        "# python image library of range [0, 1] \n",
        "# transform them to tensors of normalized range[-1, 1]\n",
        "\n",
        "transform = transforms.Compose( # composing several transforms together\n",
        "    [transforms.ToTensor(), # to tensor object\n",
        "     transforms.Normalize((0.5, 0.5, 0.5), (0.5, 0.5, 0.5))]) # mean = 0.5, std = 0.5\n",
        "\n",
        "# set batch_size\n",
        "batch_size = 4\n",
        "\n",
        "# set number of workers\n",
        "num_workers = 2\n",
        "\n",
        "# load train data\n",
        "trainset = torchvision.datasets.CIFAR10(root='./data', train=True,\n",
        "                                        download=True, transform=transform)\n",
        "trainloader = torch.utils.data.DataLoader(trainset, batch_size=batch_size,\n",
        "                                          shuffle=True, num_workers=num_workers)\n",
        "\n",
        "# load test data\n",
        "testset = torchvision.datasets.CIFAR10(root='./data', train=False,\n",
        "                                       download=True, transform=transform)\n",
        "testloader = torch.utils.data.DataLoader(testset, batch_size=batch_size,\n",
        "                                         shuffle=False, num_workers=num_workers)\n",
        "\n",
        "# put 10 classes into a set\n",
        "classes = ('plane', 'car', 'bird', 'cat',\n",
        "           'deer', 'dog', 'frog', 'horse', 'ship', 'truck')"
      ],
      "metadata": {
        "colab": {
          "base_uri": "https://localhost:8080/",
          "height": 103,
          "referenced_widgets": [
            "ad1695e2e01842b1b63b51ca6d2955ce",
            "8f2ef98f6bd7440da06174de123bd62a",
            "4942da0f0bce4db3abb39c42f14782e8",
            "ab99b54837204fb9b9684bde03b42005",
            "902aae4fd6674df1aa8c54017c75be6f",
            "2839d2c7c74f4cb3874cce242c7247c0",
            "cc388b84fb414b5fa810a292ce98ad28",
            "34eefd0b85d444ca918392a32fa53bba",
            "8d0ea5510f08444982926cc0cd820c84",
            "df668dfa5faf43caa50faacc993b524c",
            "a7b89a5b9da44b1ca21c55019b88138d"
          ]
        },
        "id": "euoC9U4E4gjY",
        "outputId": "096658ac-f702-4de4-b273-1bfa726aed15"
      },
      "execution_count": null,
      "outputs": [
        {
          "output_type": "stream",
          "name": "stdout",
          "text": [
            "Downloading https://www.cs.toronto.edu/~kriz/cifar-10-python.tar.gz to ./data/cifar-10-python.tar.gz\n"
          ]
        },
        {
          "output_type": "display_data",
          "data": {
            "text/plain": [
              "  0%|          | 0/170498071 [00:00<?, ?it/s]"
            ],
            "application/vnd.jupyter.widget-view+json": {
              "version_major": 2,
              "version_minor": 0,
              "model_id": "ad1695e2e01842b1b63b51ca6d2955ce"
            }
          },
          "metadata": {}
        },
        {
          "output_type": "stream",
          "name": "stdout",
          "text": [
            "Extracting ./data/cifar-10-python.tar.gz to ./data\n",
            "Files already downloaded and verified\n"
          ]
        }
      ]
    },
    {
      "cell_type": "code",
      "source": [
        "# show example images from dataset\n",
        "def imshow(img):\n",
        "  ''' function to show image '''\n",
        "  img = img / 2 + 0.5 # unnormalize\n",
        "  npimg = img.numpy() # convert to numpy objects\n",
        "  plt.imshow(np.transpose(npimg, (1, 2, 0)))\n",
        "  plt.show()\n",
        "\n",
        "# get random training images with iter function\n",
        "dataiter = iter(trainloader)\n",
        "images, labels = next(dataiter)\n",
        "\n",
        "# call function on our images\n",
        "imshow(torchvision.utils.make_grid(images))\n",
        "\n",
        "# print the class of the image\n",
        "print(' '.join('%s' % classes[labels[j]] for j in range(batch_size)))"
      ],
      "metadata": {
        "colab": {
          "base_uri": "https://localhost:8080/",
          "height": 156
        },
        "id": "j_5Zk-_89b43",
        "outputId": "eece9c26-05df-4e68-ab24-f40b6456cb2f"
      },
      "execution_count": null,
      "outputs": [
        {
          "output_type": "display_data",
          "data": {
            "text/plain": [
              "<Figure size 432x288 with 1 Axes>"
            ],
            "image/png": "[encoded data removed]"
          },
          "metadata": {
            "needs_background": "light"
          }
        },
        {
          "output_type": "stream",
          "name": "stdout",
          "text": [
            "ship horse horse deer\n"
          ]
        }
      ]
    },
    {
      "cell_type": "code",
      "source": [
        "outputs = net(images)\n",
        "\n",
        "_, predicted = torch.max(outputs, 1)\n",
        "\n",
        "print('Predicted: ', ' '.join('%s' % classes[predicted[j]]\n",
        "                              for j in range(4)))"
      ],
      "metadata": {
        "colab": {
          "base_uri": "https://localhost:8080/"
        },
        "id": "QjEgvs70VF5S",
        "outputId": "38b8a1a1-c442-4496-ab9f-cff285ebb4a5"
      },
      "execution_count": null,
      "outputs": [
        {
          "output_type": "stream",
          "name": "stdout",
          "text": [
            "Predicted:  car horse horse deer\n"
          ]
        }
      ]
    },
    {
      "cell_type": "code",
      "source": [
        "# neural network\n",
        "class Net(nn.Module):\n",
        "    ''' Models a simple Convolutional Neural Network'''\n",
        "\t\n",
        "    def __init__(self):\n",
        "      ''' initialize the network '''\n",
        "      super(Net, self).__init__()\n",
        "# 3 input image channel, 6 output channels, \n",
        "# 5x5 square convolution kernel\n",
        "      self.conv1 = nn.Conv2d(3, 6, 5)\n",
        "# Max pooling over a (2, 2) window\n",
        "      self.pool = nn.MaxPool2d(2, 2)\n",
        "      self.conv2 = nn.Conv2d(6, 16, 5) \n",
        "      self.fc1 = nn.Linear(16 * 5 * 5, 120)# 5x5 from image dimension\n",
        "      self.fc2 = nn.Linear(120, 84)\n",
        "      self.fc3 = nn.Linear(84, 10)\n",
        "\n",
        "    def forward(self, x):\n",
        "      ''' the forward propagation algorithm '''\n",
        "      x = self.pool(F.relu(self.conv1(x)))\n",
        "      x = self.pool(F.relu(self.conv2(x)))\n",
        "      x = x.view(-1, 16 * 5 * 5)\n",
        "      x = F.relu(self.fc1(x))\n",
        "      x = F.relu(self.fc2(x))\n",
        "      x = self.fc3(x)\n",
        "      return x\n",
        "\n",
        "net = Net()\n",
        "print(net)"
      ],
      "metadata": {
        "colab": {
          "base_uri": "https://localhost:8080/"
        },
        "id": "7l0p1KxQ-6hZ",
        "outputId": "f158d59f-e0fa-4c71-85fd-85187aab568b"
      },
      "execution_count": null,
      "outputs": [
        {
          "output_type": "stream",
          "name": "stdout",
          "text": [
            "Net(\n",
            "  (conv1): Conv2d(3, 6, kernel_size=(5, 5), stride=(1, 1))\n",
            "  (pool): MaxPool2d(kernel_size=2, stride=2, padding=0, dilation=1, ceil_mode=False)\n",
            "  (conv2): Conv2d(6, 16, kernel_size=(5, 5), stride=(1, 1))\n",
            "  (fc1): Linear(in_features=400, out_features=120, bias=True)\n",
            "  (fc2): Linear(in_features=120, out_features=84, bias=True)\n",
            "  (fc3): Linear(in_features=84, out_features=10, bias=True)\n",
            ")\n"
          ]
        }
      ]
    },
    {
      "cell_type": "code",
      "source": [
        "# loss function\n",
        "criterion = nn.CrossEntropyLoss()\n",
        "optimizer = optim.SGD(net.parameters(), lr=0.001, momentum=0.9)"
      ],
      "metadata": {
        "id": "XNNjz2IZH9TS"
      },
      "execution_count": null,
      "outputs": []
    },
    {
      "cell_type": "code",
      "source": [
        "start = torch.cuda.Event(enable_timing=True)\n",
        "end = torch.cuda.Event(enable_timing=True)\n",
        "\n",
        "start.record()\n",
        "\n",
        "for epoch in range(20):  # loop over the dataset multiple times\n",
        "\n",
        "    running_loss = 0.0\n",
        "    for i, data in enumerate(trainloader):\n",
        "        # get the inputs; data is a list of [inputs, labels]\n",
        "        inputs, labels = data\n",
        "\n",
        "        # zero the parameter gradients\n",
        "        optimizer.zero_grad()\n",
        "\n",
        "        # forward + backward + optimize\n",
        "        outputs = net(inputs)\n",
        "        loss = criterion(outputs, labels)\n",
        "        loss.backward()\n",
        "        optimizer.step()\n",
        "\n",
        "        # print statistics\n",
        "        running_loss += loss.item()\n",
        "        if i % 2000 == 1999:    # print every 2000 mini-batches\n",
        "            print('[%d, %5d] loss: %.3f' %\n",
        "                  (epoch + 1, i + 1, running_loss / 2000))\n",
        "            running_loss = 0.0\n",
        "\n",
        "# whatever you are timing goes here\n",
        "end.record()\n",
        "\n",
        "# Waits for everything to finish running\n",
        "torch.cuda.synchronize()\n",
        "\n",
        "print('Finished Training')\n",
        "print(start.elapsed_time(end))  # milliseconds"
      ],
      "metadata": {
        "colab": {
          "base_uri": "https://localhost:8080/"
        },
        "id": "EgxqL83bKd2t",
        "outputId": "d1e1db8a-eef7-4843-e4f8-d805533a558b"
      },
      "execution_count": null,
      "outputs": [
        {
          "output_type": "stream",
          "name": "stdout",
          "text": [
            "[1,  2000] loss: 1.222\n",
            "[1,  4000] loss: 1.233\n",
            "[1,  6000] loss: 1.219\n",
            "[1,  8000] loss: 1.213\n",
            "[1, 10000] loss: 1.229\n",
            "[1, 12000] loss: 1.215\n",
            "[2,  2000] loss: 1.145\n",
            "[2,  4000] loss: 1.129\n",
            "[2,  6000] loss: 1.134\n",
            "[2,  8000] loss: 1.143\n",
            "[2, 10000] loss: 1.126\n",
            "[2, 12000] loss: 1.135\n",
            "[3,  2000] loss: 1.063\n",
            "[3,  4000] loss: 1.054\n",
            "[3,  6000] loss: 1.065\n",
            "[3,  8000] loss: 1.080\n",
            "[3, 10000] loss: 1.076\n",
            "[3, 12000] loss: 1.106\n",
            "[4,  2000] loss: 0.999\n",
            "[4,  4000] loss: 1.012\n",
            "[4,  6000] loss: 1.018\n",
            "[4,  8000] loss: 1.034\n",
            "[4, 10000] loss: 1.029\n",
            "[4, 12000] loss: 1.039\n",
            "[5,  2000] loss: 0.934\n",
            "[5,  4000] loss: 0.952\n",
            "[5,  6000] loss: 0.975\n",
            "[5,  8000] loss: 0.996\n",
            "[5, 10000] loss: 1.010\n",
            "[5, 12000] loss: 0.993\n",
            "[6,  2000] loss: 0.909\n",
            "[6,  4000] loss: 0.936\n",
            "[6,  6000] loss: 0.948\n",
            "[6,  8000] loss: 0.938\n",
            "[6, 10000] loss: 0.948\n",
            "[6, 12000] loss: 0.962\n",
            "[7,  2000] loss: 0.866\n",
            "[7,  4000] loss: 0.880\n",
            "[7,  6000] loss: 0.900\n",
            "[7,  8000] loss: 0.928\n",
            "[7, 10000] loss: 0.921\n",
            "[7, 12000] loss: 0.915\n",
            "[8,  2000] loss: 0.839\n",
            "[8,  4000] loss: 0.862\n",
            "[8,  6000] loss: 0.870\n",
            "[8,  8000] loss: 0.890\n",
            "[8, 10000] loss: 0.921\n",
            "[8, 12000] loss: 0.882\n",
            "[9,  2000] loss: 0.799\n",
            "[9,  4000] loss: 0.824\n",
            "[9,  6000] loss: 0.842\n",
            "[9,  8000] loss: 0.855\n",
            "[9, 10000] loss: 0.855\n",
            "[9, 12000] loss: 0.879\n",
            "[10,  2000] loss: 0.762\n",
            "[10,  4000] loss: 0.800\n",
            "[10,  6000] loss: 0.827\n",
            "[10,  8000] loss: 0.844\n",
            "[10, 10000] loss: 0.848\n",
            "[10, 12000] loss: 0.864\n",
            "[11,  2000] loss: 0.743\n",
            "[11,  4000] loss: 0.783\n",
            "[11,  6000] loss: 0.813\n",
            "[11,  8000] loss: 0.822\n",
            "[11, 10000] loss: 0.836\n",
            "[11, 12000] loss: 0.846\n",
            "[12,  2000] loss: 0.731\n",
            "[12,  4000] loss: 0.763\n",
            "[12,  6000] loss: 0.788\n",
            "[12,  8000] loss: 0.800\n",
            "[12, 10000] loss: 0.808\n",
            "[12, 12000] loss: 0.845\n",
            "[13,  2000] loss: 0.715\n",
            "[13,  4000] loss: 0.738\n",
            "[13,  6000] loss: 0.754\n",
            "[13,  8000] loss: 0.789\n",
            "[13, 10000] loss: 0.810\n",
            "[13, 12000] loss: 0.811\n",
            "[14,  2000] loss: 0.704\n",
            "[14,  4000] loss: 0.711\n",
            "[14,  6000] loss: 0.757\n",
            "[14,  8000] loss: 0.779\n",
            "[14, 10000] loss: 0.806\n",
            "[14, 12000] loss: 0.773\n",
            "[15,  2000] loss: 0.685\n",
            "[15,  4000] loss: 0.720\n",
            "[15,  6000] loss: 0.751\n",
            "[15,  8000] loss: 0.764\n",
            "[15, 10000] loss: 0.783\n",
            "[15, 12000] loss: 0.791\n",
            "[16,  2000] loss: 0.681\n",
            "[16,  4000] loss: 0.706\n",
            "[16,  6000] loss: 0.749\n",
            "[16,  8000] loss: 0.763\n",
            "[16, 10000] loss: 0.752\n",
            "[16, 12000] loss: 0.763\n",
            "[17,  2000] loss: 0.659\n",
            "[17,  4000] loss: 0.699\n",
            "[17,  6000] loss: 0.722\n",
            "[17,  8000] loss: 0.727\n",
            "[17, 10000] loss: 0.767\n",
            "[17, 12000] loss: 0.777\n",
            "[18,  2000] loss: 0.655\n",
            "[18,  4000] loss: 0.667\n",
            "[18,  6000] loss: 0.743\n",
            "[18,  8000] loss: 0.712\n",
            "[18, 10000] loss: 0.739\n",
            "[18, 12000] loss: 0.753\n",
            "[19,  2000] loss: 0.649\n",
            "[19,  4000] loss: 0.693\n",
            "[19,  6000] loss: 0.694\n",
            "[19,  8000] loss: 0.718\n",
            "[19, 10000] loss: 0.732\n",
            "[19, 12000] loss: 0.757\n",
            "[20,  2000] loss: 0.627\n",
            "[20,  4000] loss: 0.677\n",
            "[20,  6000] loss: 0.687\n",
            "[20,  8000] loss: 0.723\n",
            "[20, 10000] loss: 0.727\n",
            "[20, 12000] loss: 0.752\n",
            "Finished Training\n",
            "1078476.25\n"
          ]
        }
      ]
    },
    {
      "cell_type": "code",
      "source": [
        "PATH = './cifar_net.pth'\n",
        "torch.save(net.state_dict(), PATH)# reloadnet = Net()\n",
        "net.load_state_dict(torch.load(PATH))"
      ],
      "metadata": {
        "colab": {
          "base_uri": "https://localhost:8080/"
        },
        "id": "myzHUDvWR3t4",
        "outputId": "fd4472f4-9493-4cd6-f5e9-78fee08a8302"
      },
      "execution_count": null,
      "outputs": [
        {
          "output_type": "execute_result",
          "data": {
            "text/plain": [
              "<All keys matched successfully>"
            ]
          },
          "metadata": {},
          "execution_count": 14
        }
      ]
    },
    {
      "cell_type": "code",
      "source": [
        "dataiter = iter(testloader)\n",
        "images, labels = next(dataiter)\n",
        "\n",
        "# print images\n",
        "imshow(torchvision.utils.make_grid(images))\n",
        "# print('GroundTruth: ', ' '.join('%s' % classes[labels[j]] for j in range(4)))\n",
        "\n",
        "# print the class of the image\n",
        "print(' '.join('%s' % classes[labels[j]] for j in range(batch_size)))"
      ],
      "metadata": {
        "colab": {
          "base_uri": "https://localhost:8080/",
          "height": 156
        },
        "id": "KKxRHsdKSZIQ",
        "outputId": "b15627e7-0218-484a-c13b-3a5984bba5fd"
      },
      "execution_count": null,
      "outputs": [
        {
          "output_type": "display_data",
          "data": {
            "text/plain": [
              "<Figure size 432x288 with 1 Axes>"
            ],
            "image/png": "[encoded data removed]"
          },
          "metadata": {
            "needs_background": "light"
          }
        },
        {
          "output_type": "stream",
          "name": "stdout",
          "text": [
            "cat ship ship plane\n"
          ]
        }
      ]
    },
    {
      "cell_type": "code",
      "source": [
        "outputs = net(images)\n",
        "\n",
        "_, predicted = torch.max(outputs, 1)\n",
        "\n",
        "print('Predicted: ', ' '.join('%s' % classes[predicted[j]]\n",
        "                              for j in range(4)))"
      ],
      "metadata": {
        "colab": {
          "base_uri": "https://localhost:8080/"
        },
        "id": "nV5Q7rGfSkGY",
        "outputId": "19aae79e-3ef7-4624-c96e-2927b04bc654"
      },
      "execution_count": null,
      "outputs": [
        {
          "output_type": "stream",
          "name": "stdout",
          "text": [
            "Predicted:  ship ship ship ship\n"
          ]
        }
      ]
    },
    {
      "cell_type": "code",
      "source": [
        "correct = 0\n",
        "total = 0\n",
        "with torch.no_grad():\n",
        "    for data in testloader:\n",
        "        images, labels = data\n",
        "        outputs = net(images)\n",
        "        _, predicted = torch.max(outputs.data, 1)\n",
        "        total += labels.size(0)\n",
        "        correct += (predicted == labels).sum().item()\n",
        "\n",
        "print('Accuracy of the network on the 10000 test images: %d %%' % (\n",
        "    100 * correct / total))"
      ],
      "metadata": {
        "colab": {
          "base_uri": "https://localhost:8080/"
        },
        "id": "BHur5oOdUsZN",
        "outputId": "fee2977f-f3c1-4a89-850c-9496dd25be12"
      },
      "execution_count": null,
      "outputs": [
        {
          "output_type": "stream",
          "name": "stdout",
          "text": [
            "Accuracy of the network on the 10000 test images: 60 %\n"
          ]
        }
      ]
    }
  ]
}